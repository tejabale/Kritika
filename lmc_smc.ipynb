{
 "cells": [
  {
   "cell_type": "code",
   "execution_count": 121,
   "metadata": {},
   "outputs": [],
   "source": [
    "import numpy as np\n",
    "import pandas as pd\n",
    "import matplotlib.pyplot as plt\n",
    "from astroquery.gaia import Gaia\n"
   ]
  },
  {
   "cell_type": "code",
   "execution_count": 126,
   "metadata": {},
   "outputs": [],
   "source": [
    "query = \"\"\"\n",
    "SELECT TOP 100000\n",
    "source_id, ra, dec, parallax,phot_g_mean_mag\n",
    "From gaiadr3.gaia_source as g\n",
    "WHERE 1 = CONTAINS(\n",
    "    POINT('ICRS' , g.ra,g.dec),\n",
    "    CIRCLE('ICRS' , 81.28,-69.78,20))\n",
    "AND g.phot_g_mean_mag<20.5\n",
    "AND g.phot_g_mean_mag>12\n",
    "AND g.parallax IS NOT NULL\n",
    "\n",
    "\"\"\""
   ]
  },
  {
   "cell_type": "code",
   "execution_count": 127,
   "metadata": {},
   "outputs": [],
   "source": [
    "job = Gaia.launch_job_async(query=query, dump_to_file=True, output_format='csv')"
   ]
  },
  {
   "cell_type": "code",
   "execution_count": 129,
   "metadata": {},
   "outputs": [
    {
     "name": "stdout",
     "output_type": "stream",
     "text": [
      "[12.000006 12.000008 12.00002  ... 13.092462 13.092481 13.092488]\n"
     ]
    },
    {
     "data": {
      "image/png": "[encoded data removed]",
      "text/plain": [
       "<Figure size 432x288 with 1 Axes>"
      ]
     },
     "metadata": {
      "needs_background": "light"
     },
     "output_type": "display_data"
    }
   ],
   "source": [
    "df = job.get_results().to_pandas()\n",
    "mag = np.array(df['phot_g_mean_mag'])\n",
    "print(mag)\n",
    "plt.hist(mag) \n",
    "plt.title(\"histogram\") \n",
    "plt.show()\n"
   ]
  },
  {
   "cell_type": "code",
   "execution_count": 120,
   "metadata": {},
   "outputs": [],
   "source": [
    "##from here SMC "
   ]
  },
  {
   "cell_type": "code",
   "execution_count": null,
   "metadata": {},
   "outputs": [],
   "source": []
  },
  {
   "cell_type": "code",
   "execution_count": null,
   "metadata": {},
   "outputs": [],
   "source": []
  }
 ],
 "metadata": {
  "kernelspec": {
   "display_name": "Python 3.8.10 ('env': venv)",
   "language": "python",
   "name": "python3"
  },
  "language_info": {
   "codemirror_mode": {
    "name": "ipython",
    "version": 3
   },
   "file_extension": ".py",
   "mimetype": "text/x-python",
   "name": "python",
   "nbconvert_exporter": "python",
   "pygments_lexer": "ipython3",
   "version": "3.8.10"
  },
  "orig_nbformat": 4,
  "vscode": {
   "interpreter": {
    "hash": "af18e694bc82f9a509de028a0db3ab1e56df75f17ca1bcb539aa5d278292fd88"
   }
  }
 },
 "nbformat": 4,
 "nbformat_minor": 2
}
